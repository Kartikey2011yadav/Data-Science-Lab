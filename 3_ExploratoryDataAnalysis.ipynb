{
 "cells": [
  {
   "cell_type": "code",
   "execution_count": 1,
   "id": "e7eedfa9-9053-4a22-a606-9db251f908be",
   "metadata": {},
   "outputs": [
    {
     "name": "stderr",
     "output_type": "stream",
     "text": [
      "2023-12-01 17:05:44.176428: I tensorflow/tsl/cuda/cudart_stub.cc:28] Could not find cuda drivers on your machine, GPU will not be used.\n",
      "2023-12-01 17:05:44.206756: I tensorflow/tsl/cuda/cudart_stub.cc:28] Could not find cuda drivers on your machine, GPU will not be used.\n",
      "2023-12-01 17:05:44.207713: I tensorflow/core/platform/cpu_feature_guard.cc:182] This TensorFlow binary is optimized to use available CPU instructions in performance-critical operations.\n",
      "To enable the following instructions: AVX2 FMA, in other operations, rebuild TensorFlow with the appropriate compiler flags.\n",
      "2023-12-01 17:05:44.767142: W tensorflow/compiler/tf2tensorrt/utils/py_utils.cc:38] TF-TRT Warning: Could not find TensorRT\n"
     ]
    }
   ],
   "source": [
    "import random\n",
    "import pandas as pd\n",
    "import numpy as np \n",
    "import seaborn as sns\n",
    "from tensorflow import keras\n",
    "import matplotlib.pyplot as plt\n",
    "from imblearn.over_sampling import SMOTE\n",
    "from sklearn.preprocessing import MinMaxScaler\n",
    "from sklearn.model_selection import train_test_split\n",
    "from sklearn.preprocessing import MinMaxScaler\n",
    "from sklearn.tree import DecisionTreeClassifier, plot_tree\n",
    "from sklearn.ensemble import RandomForestClassifier\n",
    "from sklearn.preprocessing import StandardScaler\n",
    "from sklearn.metrics import accuracy_score, confusion_matrix\n",
    "from sklearn import preprocessing \n",
    "from sklearn.neighbors import KNeighborsClassifier\n",
    "from sklearn.linear_model import LinearRegression\n",
    "from sklearn.datasets import fetch_california_housing\n",
    "from sklearn.linear_model import PoissonRegressor\n",
    "from sklearn.metrics import mean_absolute_error, mean_squared_error"
   ]
  },
  {
   "cell_type": "markdown",
   "id": "e2613607-361a-428e-bf60-149382469f13",
   "metadata": {},
   "source": [
    "# EXPLORATORY DATA ANALYSIS"
   ]
  },
  {
   "cell_type": "code",
   "execution_count": 2,
   "id": "9e0e9962-005b-434b-8e3d-4f4e16c96971",
   "metadata": {},
   "outputs": [],
   "source": [
    "data = pd.read_csv(\"StudentsPerformance.csv\")"
   ]
  },
  {
   "cell_type": "markdown",
   "id": "bef73459-e437-4f96-bcca-b39945d90e86",
   "metadata": {},
   "source": [
    "## 2:How to Construct Contingency Tables Using Python"
   ]
  },
  {
   "cell_type": "code",
   "execution_count": 3,
   "id": "7a7cde93-b6c8-4549-a1e8-1eaef4d661a5",
   "metadata": {},
   "outputs": [
    {
     "name": "stdout",
     "output_type": "stream",
     "text": [
      "gender                       female  male\n",
      "parental level of education              \n",
      "associate's degree              116   106\n",
      "bachelor's degree                63    55\n",
      "high school                      94   102\n",
      "master's degree                  36    23\n",
      "some college                    118   108\n",
      "some high school                 91    88\n"
     ]
    }
   ],
   "source": [
    "data_crosstab = pd.crosstab(data['parental level of education'],  \n",
    "                            data['gender'], \n",
    "                                margins = False) \n",
    "print(data_crosstab)"
   ]
  },
  {
   "cell_type": "markdown",
   "id": "d77f44d7-87cd-42c8-b478-c7c40c3cbb92",
   "metadata": {},
   "source": [
    "## 4:How to Perform Binning Based on Predictive Value Using Python"
   ]
  },
  {
   "cell_type": "code",
   "execution_count": 4,
   "id": "f199818b-eb42-4604-9a51-beabad0aab1f",
   "metadata": {},
   "outputs": [
    {
     "name": "stdout",
     "output_type": "stream",
     "text": [
      "    gender race/ethnicity parental level of education         lunch  \\\n",
      "0   female        group B           bachelor's degree      standard   \n",
      "1   female        group C                some college      standard   \n",
      "2   female        group B             master's degree      standard   \n",
      "3     male        group A          associate's degree  free/reduced   \n",
      "4     male        group C                some college      standard   \n",
      "5   female        group B          associate's degree      standard   \n",
      "6   female        group B                some college      standard   \n",
      "7     male        group B                some college  free/reduced   \n",
      "8     male        group D                 high school  free/reduced   \n",
      "9   female        group B                 high school  free/reduced   \n",
      "10    male        group C          associate's degree      standard   \n",
      "11    male        group D          associate's degree      standard   \n",
      "12  female        group B                 high school      standard   \n",
      "13    male        group A                some college      standard   \n",
      "14  female        group A             master's degree      standard   \n",
      "15  female        group C            some high school      standard   \n",
      "16    male        group C                 high school      standard   \n",
      "17  female        group B            some high school  free/reduced   \n",
      "18    male        group C             master's degree  free/reduced   \n",
      "19  female        group C          associate's degree  free/reduced   \n",
      "\n",
      "   test preparation course  math score  reading score  writing score  \\\n",
      "0                     none          72             72             74   \n",
      "1                completed          69             90             88   \n",
      "2                     none          90             95             93   \n",
      "3                     none          47             57             44   \n",
      "4                     none          76             78             75   \n",
      "5                     none          71             83             78   \n",
      "6                completed          88             95             92   \n",
      "7                     none          40             43             39   \n",
      "8                completed          64             64             67   \n",
      "9                     none          38             60             50   \n",
      "10                    none          58             54             52   \n",
      "11                    none          40             52             43   \n",
      "12                    none          65             81             73   \n",
      "13               completed          78             72             70   \n",
      "14                    none          50             53             58   \n",
      "15                    none          69             75             78   \n",
      "16                    none          88             89             86   \n",
      "17                    none          18             32             28   \n",
      "18               completed          46             42             46   \n",
      "19                    none          54             58             61   \n",
      "\n",
      "    Total Marks in % Grades  \n",
      "0          72.666667      B  \n",
      "1          82.333333      A  \n",
      "2          92.666667      A  \n",
      "3          49.333333      E  \n",
      "4          76.333333      B  \n",
      "5          77.333333      B  \n",
      "6          91.666667      A  \n",
      "7          40.666667      E  \n",
      "8          65.000000      D  \n",
      "9          49.333333      E  \n",
      "10         54.666667      E  \n",
      "11         45.000000      E  \n",
      "12         73.000000      B  \n",
      "13         73.333333      B  \n",
      "14         53.666667      E  \n",
      "15         74.000000      B  \n",
      "16         87.666667      A  \n",
      "17         26.000000      E  \n",
      "18         44.666667      E  \n",
      "19         57.666667      D  \n"
     ]
    }
   ],
   "source": [
    "data['Grades'] = pd.qcut(data['Total Marks in %'],\n",
    "                           q=[0, .2, .4, .6, .8, 1],\n",
    "                           labels=['E', 'D', 'C', 'B', 'A'])\n",
    "print(data.head(20))"
   ]
  }
 ],
 "metadata": {
  "kernelspec": {
   "display_name": "Python 3 (ipykernel)",
   "language": "python",
   "name": "python3"
  },
  "language_info": {
   "codemirror_mode": {
    "name": "ipython",
    "version": 3
   },
   "file_extension": ".py",
   "mimetype": "text/x-python",
   "name": "python",
   "nbconvert_exporter": "python",
   "pygments_lexer": "ipython3",
   "version": "3.8.18"
  }
 },
 "nbformat": 4,
 "nbformat_minor": 5
}
