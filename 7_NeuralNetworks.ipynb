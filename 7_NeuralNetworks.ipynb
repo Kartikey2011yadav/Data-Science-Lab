{
 "cells": [
  {
   "cell_type": "code",
   "execution_count": 27,
   "id": "e9a1e9e8-ba1e-46d1-8e24-2d70076753c6",
   "metadata": {},
   "outputs": [],
   "source": [
    "import random\n",
    "import pandas as pd\n",
    "import numpy as np \n",
    "import seaborn as sns\n",
    "from tensorflow import keras\n",
    "import matplotlib.pyplot as plt\n",
    "from imblearn.over_sampling import SMOTE\n",
    "from sklearn.preprocessing import MinMaxScaler\n",
    "from sklearn.model_selection import train_test_split\n",
    "from sklearn.preprocessing import MinMaxScaler\n",
    "from sklearn.tree import DecisionTreeClassifier, plot_tree\n",
    "from sklearn.ensemble import RandomForestClassifier\n",
    "from sklearn.preprocessing import StandardScaler\n",
    "from sklearn.metrics import accuracy_score, confusion_matrix\n",
    "from sklearn import preprocessing \n",
    "from sklearn.neighbors import KNeighborsClassifier\n",
    "from sklearn.linear_model import LinearRegression\n",
    "from sklearn.datasets import fetch_california_housing\n",
    "from sklearn.linear_model import PoissonRegressor\n",
    "from sklearn.metrics import mean_absolute_error, mean_squared_error"
   ]
  },
  {
   "cell_type": "markdown",
   "id": "15670f31-3bcc-42d6-b7e5-b9873d0ed68d",
   "metadata": {},
   "source": [
    "# NEURAL NETWORKS"
   ]
  },
  {
   "cell_type": "markdown",
   "id": "3fde3b0c-dce0-4be4-ab65-649724b5ef21",
   "metadata": {},
   "source": [
    "## 1:Demonstrate application of NEURAL NETWORKS using Python"
   ]
  },
  {
   "cell_type": "code",
   "execution_count": 36,
   "id": "cddb50a0-0146-424e-9c9d-2bed33560faa",
   "metadata": {},
   "outputs": [],
   "source": [
    "data_housing = pd.read_csv('housing.csv')"
   ]
  },
  {
   "cell_type": "code",
   "execution_count": 37,
   "id": "42fef1cf-0ad3-4cee-b003-d24fe52a8053",
   "metadata": {},
   "outputs": [
    {
     "name": "stdout",
     "output_type": "stream",
     "text": [
      "<class 'pandas.core.frame.DataFrame'>\n",
      "RangeIndex: 20640 entries, 0 to 20639\n",
      "Data columns (total 10 columns):\n",
      " #   Column              Non-Null Count  Dtype  \n",
      "---  ------              --------------  -----  \n",
      " 0   longitude           20640 non-null  float64\n",
      " 1   latitude            20640 non-null  float64\n",
      " 2   housing_median_age  20640 non-null  float64\n",
      " 3   total_rooms         20640 non-null  float64\n",
      " 4   total_bedrooms      20640 non-null  float64\n",
      " 5   population          20640 non-null  float64\n",
      " 6   households          20640 non-null  float64\n",
      " 7   median_income       20640 non-null  float64\n",
      " 8   median_house_value  20640 non-null  float64\n",
      " 9   ocean_proximity     20640 non-null  object \n",
      "dtypes: float64(9), object(1)\n",
      "memory usage: 1.6+ MB\n"
     ]
    }
   ],
   "source": [
    "data_housing['total_bedrooms'] = data_housing['total_bedrooms'].fillna(data_housing['total_rooms']*0.07)\n",
    "\n",
    "data_housing.info()"
   ]
  },
  {
   "cell_type": "code",
   "execution_count": 38,
   "id": "11156aaf-fb81-48f4-be86-acf1fd57bbfa",
   "metadata": {},
   "outputs": [],
   "source": [
    "X = data_housing.drop(['ocean_proximity'], axis=1)\n",
    "y = data_housing['ocean_proximity']\n",
    "scaler = MinMaxScaler()\n",
    "X = scaler.fit_transform(X)\n",
    "X_train, X_test, Y_train, Y_test = train_test_split(X, y, test_size=0.2)"
   ]
  },
  {
   "cell_type": "code",
   "execution_count": 39,
   "id": "4f0eced9-4a44-4fd2-8208-8e09ed47f006",
   "metadata": {},
   "outputs": [],
   "source": [
    "label_encoder = preprocessing.LabelEncoder() \n",
    "\n",
    "yTrain= label_encoder.fit_transform(Y_train) \n",
    "yTest= label_encoder.fit_transform(Y_test) "
   ]
  },
  {
   "cell_type": "code",
   "execution_count": 40,
   "id": "5a15441a-2221-4b91-977c-707e39cafea1",
   "metadata": {},
   "outputs": [],
   "source": [
    "def neural_net():\n",
    "    md=keras.Sequential([\n",
    "        keras.layers.Flatten(),\n",
    "        keras.layers.Dense(9,input_shape=(16512, 9),activation=\"relu\"),\n",
    "        keras.layers.Dense(50,activation=\"relu\"),\n",
    "        keras.layers.Dense(5,activation=\"sigmoid\")\n",
    "\n",
    "    ])\n",
    "    md.compile(optimizer=\"adam\",loss='sparse_categorical_crossentropy',metrics=[\"accuracy\"])\n",
    "    return md"
   ]
  },
  {
   "cell_type": "code",
   "execution_count": 42,
   "id": "b8bed294-83a1-4c44-b420-5a64c0dba864",
   "metadata": {},
   "outputs": [
    {
     "name": "stdout",
     "output_type": "stream",
     "text": [
      "Epoch 1/10\n",
      "516/516 [==============================] - 1s 514us/step - loss: 0.9585 - accuracy: 0.6409\n",
      "Epoch 2/10\n",
      "516/516 [==============================] - 0s 505us/step - loss: 0.6920 - accuracy: 0.7427\n",
      "Epoch 3/10\n",
      "516/516 [==============================] - 0s 502us/step - loss: 0.6230 - accuracy: 0.7639\n",
      "Epoch 4/10\n",
      "516/516 [==============================] - 0s 501us/step - loss: 0.5686 - accuracy: 0.7905\n",
      "Epoch 5/10\n",
      "516/516 [==============================] - 0s 502us/step - loss: 0.5258 - accuracy: 0.8089\n",
      "Epoch 6/10\n",
      "516/516 [==============================] - 0s 501us/step - loss: 0.4918 - accuracy: 0.8227\n",
      "Epoch 7/10\n",
      "516/516 [==============================] - 0s 502us/step - loss: 0.4641 - accuracy: 0.8299\n",
      "Epoch 8/10\n",
      "516/516 [==============================] - 0s 505us/step - loss: 0.4364 - accuracy: 0.8396\n",
      "Epoch 9/10\n",
      "516/516 [==============================] - 0s 502us/step - loss: 0.4129 - accuracy: 0.8464\n",
      "Epoch 10/10\n",
      "516/516 [==============================] - 0s 502us/step - loss: 0.3925 - accuracy: 0.8516\n"
     ]
    },
    {
     "data": {
      "text/plain": [
       "<keras.src.callbacks.History at 0x7f4e346d4e20>"
      ]
     },
     "execution_count": 42,
     "metadata": {},
     "output_type": "execute_result"
    }
   ],
   "source": [
    "m=neural_net()\n",
    "m.fit(X_train,yTrain,epochs=10)"
   ]
  },
  {
   "cell_type": "code",
   "execution_count": 26,
   "id": "3acc0266-41c1-48f3-a292-fb87e7b370cd",
   "metadata": {},
   "outputs": [
    {
     "name": "stdout",
     "output_type": "stream",
     "text": [
      "129/129 [==============================] - 0s 484us/step - loss: 3.4570 - accuracy: 0.7156\n"
     ]
    },
    {
     "data": {
      "text/plain": [
       "[3.4569854736328125, 0.7156007885932922]"
      ]
     },
     "execution_count": 26,
     "metadata": {},
     "output_type": "execute_result"
    }
   ],
   "source": [
    "m.evaluate(X_test,yTest)"
   ]
  }
 ],
 "metadata": {
  "kernelspec": {
   "display_name": "Python 3 (ipykernel)",
   "language": "python",
   "name": "python3"
  },
  "language_info": {
   "codemirror_mode": {
    "name": "ipython",
    "version": 3
   },
   "file_extension": ".py",
   "mimetype": "text/x-python",
   "name": "python",
   "nbconvert_exporter": "python",
   "pygments_lexer": "ipython3",
   "version": "3.8.18"
  }
 },
 "nbformat": 4,
 "nbformat_minor": 5
}
