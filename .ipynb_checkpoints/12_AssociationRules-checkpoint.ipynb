{
 "cells": [
  {
   "cell_type": "code",
   "execution_count": 1,
   "id": "b8b37c5d-2346-4ba0-ac11-76a2fba85b3a",
   "metadata": {},
   "outputs": [
    {
     "name": "stderr",
     "output_type": "stream",
     "text": [
      "2023-12-03 12:40:27.104125: I tensorflow/tsl/cuda/cudart_stub.cc:28] Could not find cuda drivers on your machine, GPU will not be used.\n",
      "2023-12-03 12:40:27.137334: I tensorflow/tsl/cuda/cudart_stub.cc:28] Could not find cuda drivers on your machine, GPU will not be used.\n",
      "2023-12-03 12:40:27.137958: I tensorflow/core/platform/cpu_feature_guard.cc:182] This TensorFlow binary is optimized to use available CPU instructions in performance-critical operations.\n",
      "To enable the following instructions: AVX2 FMA, in other operations, rebuild TensorFlow with the appropriate compiler flags.\n",
      "2023-12-03 12:40:27.697219: W tensorflow/compiler/tf2tensorrt/utils/py_utils.cc:38] TF-TRT Warning: Could not find TensorRT\n"
     ]
    }
   ],
   "source": [
    "import random\n",
    "import pandas as pd\n",
    "import numpy as np \n",
    "import seaborn as sns\n",
    "from tensorflow import keras\n",
    "import matplotlib.pyplot as plt\n",
    "from imblearn.over_sampling import SMOTE\n",
    "from sklearn.preprocessing import MinMaxScaler\n",
    "from sklearn.model_selection import train_test_split\n",
    "from sklearn.preprocessing import MinMaxScaler\n",
    "from sklearn.tree import DecisionTreeClassifier, plot_tree\n",
    "from sklearn.ensemble import RandomForestClassifier\n",
    "from sklearn.preprocessing import StandardScaler\n",
    "from sklearn.metrics import accuracy_score, confusion_matrix\n",
    "from sklearn import preprocessing \n",
    "from sklearn.neighbors import KNeighborsClassifier\n",
    "from sklearn.linear_model import LinearRegression\n",
    "from sklearn.datasets import fetch_california_housing\n",
    "from sklearn.linear_model import PoissonRegressor\n",
    "from sklearn.metrics import mean_absolute_error, mean_squared_error"
   ]
  },
  {
   "cell_type": "markdown",
   "id": "5fc21c45-609b-437e-8eb9-ded1c12101b6",
   "metadata": {},
   "source": [
    "# ASSOCIATION RULES"
   ]
  },
  {
   "cell_type": "code",
   "execution_count": 2,
   "id": "c023e51e-9897-4f89-9659-e78c505497a0",
   "metadata": {},
   "outputs": [],
   "source": [
    "# ! pip install apyori"
   ]
  },
  {
   "cell_type": "code",
   "execution_count": 3,
   "id": "1a3cd79f-2ec6-461f-845f-445f308c8a10",
   "metadata": {},
   "outputs": [
    {
     "data": {
      "text/html": [
       "<div>\n",
       "<style scoped>\n",
       "    .dataframe tbody tr th:only-of-type {\n",
       "        vertical-align: middle;\n",
       "    }\n",
       "\n",
       "    .dataframe tbody tr th {\n",
       "        vertical-align: top;\n",
       "    }\n",
       "\n",
       "    .dataframe thead th {\n",
       "        text-align: right;\n",
       "    }\n",
       "</style>\n",
       "<table border=\"1\" class=\"dataframe\">\n",
       "  <thead>\n",
       "    <tr style=\"text-align: right;\">\n",
       "      <th></th>\n",
       "      <th>Member_number</th>\n",
       "      <th>Date</th>\n",
       "      <th>itemDescription</th>\n",
       "    </tr>\n",
       "  </thead>\n",
       "  <tbody>\n",
       "    <tr>\n",
       "      <th>0</th>\n",
       "      <td>1808</td>\n",
       "      <td>21-07-2015</td>\n",
       "      <td>tropical fruit</td>\n",
       "    </tr>\n",
       "    <tr>\n",
       "      <th>1</th>\n",
       "      <td>2552</td>\n",
       "      <td>05-01-2015</td>\n",
       "      <td>whole milk</td>\n",
       "    </tr>\n",
       "    <tr>\n",
       "      <th>2</th>\n",
       "      <td>2300</td>\n",
       "      <td>19-09-2015</td>\n",
       "      <td>pip fruit</td>\n",
       "    </tr>\n",
       "    <tr>\n",
       "      <th>3</th>\n",
       "      <td>1187</td>\n",
       "      <td>12-12-2015</td>\n",
       "      <td>other vegetables</td>\n",
       "    </tr>\n",
       "    <tr>\n",
       "      <th>4</th>\n",
       "      <td>3037</td>\n",
       "      <td>01-02-2015</td>\n",
       "      <td>whole milk</td>\n",
       "    </tr>\n",
       "  </tbody>\n",
       "</table>\n",
       "</div>"
      ],
      "text/plain": [
       "   Member_number        Date   itemDescription\n",
       "0           1808  21-07-2015    tropical fruit\n",
       "1           2552  05-01-2015        whole milk\n",
       "2           2300  19-09-2015         pip fruit\n",
       "3           1187  12-12-2015  other vegetables\n",
       "4           3037  01-02-2015        whole milk"
      ]
     },
     "execution_count": 3,
     "metadata": {},
     "output_type": "execute_result"
    }
   ],
   "source": [
    "df = pd.read_csv('Groceries_dataset.csv')\n",
    "df.head()"
   ]
  },
  {
   "cell_type": "code",
   "execution_count": 4,
   "id": "197d8696-3dfd-41d7-9a81-6d7e36442e82",
   "metadata": {},
   "outputs": [
    {
     "name": "stdout",
     "output_type": "stream",
     "text": [
      "<class 'pandas.core.frame.DataFrame'>\n",
      "RangeIndex: 38765 entries, 0 to 38764\n",
      "Data columns (total 3 columns):\n",
      " #   Column           Non-Null Count  Dtype \n",
      "---  ------           --------------  ----- \n",
      " 0   Member_number    38765 non-null  int64 \n",
      " 1   Date             38765 non-null  object\n",
      " 2   itemDescription  38765 non-null  object\n",
      "dtypes: int64(1), object(2)\n",
      "memory usage: 908.7+ KB\n"
     ]
    }
   ],
   "source": [
    "df.info()"
   ]
  },
  {
   "cell_type": "code",
   "execution_count": 5,
   "id": "1c6e743e-60fb-4241-af3e-1f495f84318c",
   "metadata": {},
   "outputs": [
    {
     "data": {
      "text/html": [
       "<div>\n",
       "<style scoped>\n",
       "    .dataframe tbody tr th:only-of-type {\n",
       "        vertical-align: middle;\n",
       "    }\n",
       "\n",
       "    .dataframe tbody tr th {\n",
       "        vertical-align: top;\n",
       "    }\n",
       "\n",
       "    .dataframe thead th {\n",
       "        text-align: right;\n",
       "    }\n",
       "</style>\n",
       "<table border=\"1\" class=\"dataframe\">\n",
       "  <thead>\n",
       "    <tr style=\"text-align: right;\">\n",
       "      <th></th>\n",
       "      <th>itemDescription</th>\n",
       "      <th>count</th>\n",
       "    </tr>\n",
       "  </thead>\n",
       "  <tbody>\n",
       "    <tr>\n",
       "      <th>0</th>\n",
       "      <td>Instant food products</td>\n",
       "      <td>60</td>\n",
       "    </tr>\n",
       "    <tr>\n",
       "      <th>1</th>\n",
       "      <td>UHT-milk</td>\n",
       "      <td>323</td>\n",
       "    </tr>\n",
       "    <tr>\n",
       "      <th>2</th>\n",
       "      <td>abrasive cleaner</td>\n",
       "      <td>22</td>\n",
       "    </tr>\n",
       "    <tr>\n",
       "      <th>3</th>\n",
       "      <td>artif. sweetener</td>\n",
       "      <td>29</td>\n",
       "    </tr>\n",
       "    <tr>\n",
       "      <th>4</th>\n",
       "      <td>baby cosmetics</td>\n",
       "      <td>3</td>\n",
       "    </tr>\n",
       "    <tr>\n",
       "      <th>...</th>\n",
       "      <td>...</td>\n",
       "      <td>...</td>\n",
       "    </tr>\n",
       "    <tr>\n",
       "      <th>162</th>\n",
       "      <td>white bread</td>\n",
       "      <td>362</td>\n",
       "    </tr>\n",
       "    <tr>\n",
       "      <th>163</th>\n",
       "      <td>white wine</td>\n",
       "      <td>176</td>\n",
       "    </tr>\n",
       "    <tr>\n",
       "      <th>164</th>\n",
       "      <td>whole milk</td>\n",
       "      <td>2502</td>\n",
       "    </tr>\n",
       "    <tr>\n",
       "      <th>165</th>\n",
       "      <td>yogurt</td>\n",
       "      <td>1334</td>\n",
       "    </tr>\n",
       "    <tr>\n",
       "      <th>166</th>\n",
       "      <td>zwieback</td>\n",
       "      <td>60</td>\n",
       "    </tr>\n",
       "  </tbody>\n",
       "</table>\n",
       "<p>167 rows × 2 columns</p>\n",
       "</div>"
      ],
      "text/plain": [
       "           itemDescription  count\n",
       "0    Instant food products     60\n",
       "1                 UHT-milk    323\n",
       "2         abrasive cleaner     22\n",
       "3         artif. sweetener     29\n",
       "4           baby cosmetics      3\n",
       "..                     ...    ...\n",
       "162            white bread    362\n",
       "163             white wine    176\n",
       "164             whole milk   2502\n",
       "165                 yogurt   1334\n",
       "166               zwieback     60\n",
       "\n",
       "[167 rows x 2 columns]"
      ]
     },
     "execution_count": 5,
     "metadata": {},
     "output_type": "execute_result"
    }
   ],
   "source": [
    "df_count = df.groupby(['itemDescription']).size().reset_index(name='count')\n",
    "df_count"
   ]
  },
  {
   "cell_type": "code",
   "execution_count": 6,
   "id": "1b463bc5-a7ad-4546-9a29-b2ee76cbad34",
   "metadata": {},
   "outputs": [
    {
     "data": {
      "text/html": [
       "<div>\n",
       "<style scoped>\n",
       "    .dataframe tbody tr th:only-of-type {\n",
       "        vertical-align: middle;\n",
       "    }\n",
       "\n",
       "    .dataframe tbody tr th {\n",
       "        vertical-align: top;\n",
       "    }\n",
       "\n",
       "    .dataframe thead th {\n",
       "        text-align: right;\n",
       "    }\n",
       "</style>\n",
       "<table border=\"1\" class=\"dataframe\">\n",
       "  <thead>\n",
       "    <tr style=\"text-align: right;\">\n",
       "      <th></th>\n",
       "      <th>itemDescription</th>\n",
       "    </tr>\n",
       "    <tr>\n",
       "      <th>Date</th>\n",
       "      <th></th>\n",
       "    </tr>\n",
       "  </thead>\n",
       "  <tbody>\n",
       "    <tr>\n",
       "      <th>01-01-2014</th>\n",
       "      <td>cleaner,sausage,tropical fruit,whole milk,citr...</td>\n",
       "    </tr>\n",
       "    <tr>\n",
       "      <th>01-01-2015</th>\n",
       "      <td>canned beer,frozen meals,butter,ham,citrus fru...</td>\n",
       "    </tr>\n",
       "    <tr>\n",
       "      <th>01-02-2014</th>\n",
       "      <td>other vegetables,pip fruit,frankfurter,sugar,o...</td>\n",
       "    </tr>\n",
       "    <tr>\n",
       "      <th>01-02-2015</th>\n",
       "      <td>whole milk,canned beer,bottled water,soda,whol...</td>\n",
       "    </tr>\n",
       "    <tr>\n",
       "      <th>01-03-2014</th>\n",
       "      <td>sausage,meat,sugar,sausage,bottled beer,whole ...</td>\n",
       "    </tr>\n",
       "    <tr>\n",
       "      <th>...</th>\n",
       "      <td>...</td>\n",
       "    </tr>\n",
       "    <tr>\n",
       "      <th>31-07-2015</th>\n",
       "      <td>vinegar,chicken,root vegetables,chicken,sausag...</td>\n",
       "    </tr>\n",
       "    <tr>\n",
       "      <th>31-08-2014</th>\n",
       "      <td>pork,other vegetables,beef,whole milk,hygiene ...</td>\n",
       "    </tr>\n",
       "    <tr>\n",
       "      <th>31-08-2015</th>\n",
       "      <td>brown bread,frankfurter,chicken,citrus fruit,b...</td>\n",
       "    </tr>\n",
       "    <tr>\n",
       "      <th>31-10-2014</th>\n",
       "      <td>yogurt,frankfurter,other vegetables,salty snac...</td>\n",
       "    </tr>\n",
       "    <tr>\n",
       "      <th>31-10-2015</th>\n",
       "      <td>chicken,canned beer,frozen vegetables,beef,can...</td>\n",
       "    </tr>\n",
       "  </tbody>\n",
       "</table>\n",
       "<p>728 rows × 1 columns</p>\n",
       "</div>"
      ],
      "text/plain": [
       "                                              itemDescription\n",
       "Date                                                         \n",
       "01-01-2014  cleaner,sausage,tropical fruit,whole milk,citr...\n",
       "01-01-2015  canned beer,frozen meals,butter,ham,citrus fru...\n",
       "01-02-2014  other vegetables,pip fruit,frankfurter,sugar,o...\n",
       "01-02-2015  whole milk,canned beer,bottled water,soda,whol...\n",
       "01-03-2014  sausage,meat,sugar,sausage,bottled beer,whole ...\n",
       "...                                                       ...\n",
       "31-07-2015  vinegar,chicken,root vegetables,chicken,sausag...\n",
       "31-08-2014  pork,other vegetables,beef,whole milk,hygiene ...\n",
       "31-08-2015  brown bread,frankfurter,chicken,citrus fruit,b...\n",
       "31-10-2014  yogurt,frankfurter,other vegetables,salty snac...\n",
       "31-10-2015  chicken,canned beer,frozen vegetables,beef,can...\n",
       "\n",
       "[728 rows x 1 columns]"
      ]
     },
     "execution_count": 6,
     "metadata": {},
     "output_type": "execute_result"
    }
   ],
   "source": [
    "grocery_df = df.groupby('Date').agg({'itemDescription':','.join})\n",
    "grocery_df"
   ]
  },
  {
   "cell_type": "code",
   "execution_count": 7,
   "id": "995004a8-52db-48e4-b3bc-b37c9a84387a",
   "metadata": {},
   "outputs": [
    {
     "data": {
      "text/html": [
       "<div>\n",
       "<style scoped>\n",
       "    .dataframe tbody tr th:only-of-type {\n",
       "        vertical-align: middle;\n",
       "    }\n",
       "\n",
       "    .dataframe tbody tr th {\n",
       "        vertical-align: top;\n",
       "    }\n",
       "\n",
       "    .dataframe thead th {\n",
       "        text-align: right;\n",
       "    }\n",
       "</style>\n",
       "<table border=\"1\" class=\"dataframe\">\n",
       "  <thead>\n",
       "    <tr style=\"text-align: right;\">\n",
       "      <th></th>\n",
       "      <th>itemDescription</th>\n",
       "    </tr>\n",
       "    <tr>\n",
       "      <th>Date</th>\n",
       "      <th></th>\n",
       "    </tr>\n",
       "  </thead>\n",
       "  <tbody>\n",
       "    <tr>\n",
       "      <th>01-01-2014</th>\n",
       "      <td>[cleaner, sausage, tropical fruit, whole milk,...</td>\n",
       "    </tr>\n",
       "    <tr>\n",
       "      <th>01-01-2015</th>\n",
       "      <td>[canned beer, frozen meals, butter, ham, citru...</td>\n",
       "    </tr>\n",
       "    <tr>\n",
       "      <th>01-02-2014</th>\n",
       "      <td>[other vegetables, pip fruit, frankfurter, sug...</td>\n",
       "    </tr>\n",
       "    <tr>\n",
       "      <th>01-02-2015</th>\n",
       "      <td>[whole milk, canned beer, bottled water, soda,...</td>\n",
       "    </tr>\n",
       "    <tr>\n",
       "      <th>01-03-2014</th>\n",
       "      <td>[sausage, meat, sugar, sausage, bottled beer, ...</td>\n",
       "    </tr>\n",
       "    <tr>\n",
       "      <th>...</th>\n",
       "      <td>...</td>\n",
       "    </tr>\n",
       "    <tr>\n",
       "      <th>31-07-2015</th>\n",
       "      <td>[vinegar, chicken, root vegetables, chicken, s...</td>\n",
       "    </tr>\n",
       "    <tr>\n",
       "      <th>31-08-2014</th>\n",
       "      <td>[pork, other vegetables, beef, whole milk, hyg...</td>\n",
       "    </tr>\n",
       "    <tr>\n",
       "      <th>31-08-2015</th>\n",
       "      <td>[brown bread, frankfurter, chicken, citrus fru...</td>\n",
       "    </tr>\n",
       "    <tr>\n",
       "      <th>31-10-2014</th>\n",
       "      <td>[yogurt, frankfurter, other vegetables, salty ...</td>\n",
       "    </tr>\n",
       "    <tr>\n",
       "      <th>31-10-2015</th>\n",
       "      <td>[chicken, canned beer, frozen vegetables, beef...</td>\n",
       "    </tr>\n",
       "  </tbody>\n",
       "</table>\n",
       "<p>728 rows × 1 columns</p>\n",
       "</div>"
      ],
      "text/plain": [
       "                                              itemDescription\n",
       "Date                                                         \n",
       "01-01-2014  [cleaner, sausage, tropical fruit, whole milk,...\n",
       "01-01-2015  [canned beer, frozen meals, butter, ham, citru...\n",
       "01-02-2014  [other vegetables, pip fruit, frankfurter, sug...\n",
       "01-02-2015  [whole milk, canned beer, bottled water, soda,...\n",
       "01-03-2014  [sausage, meat, sugar, sausage, bottled beer, ...\n",
       "...                                                       ...\n",
       "31-07-2015  [vinegar, chicken, root vegetables, chicken, s...\n",
       "31-08-2014  [pork, other vegetables, beef, whole milk, hyg...\n",
       "31-08-2015  [brown bread, frankfurter, chicken, citrus fru...\n",
       "31-10-2014  [yogurt, frankfurter, other vegetables, salty ...\n",
       "31-10-2015  [chicken, canned beer, frozen vegetables, beef...\n",
       "\n",
       "[728 rows x 1 columns]"
      ]
     },
     "execution_count": 7,
     "metadata": {},
     "output_type": "execute_result"
    }
   ],
   "source": [
    "grocery_df['itemDescription'] = grocery_df['itemDescription'].str.split(',')\n",
    "grocery_df"
   ]
  },
  {
   "cell_type": "code",
   "execution_count": 8,
   "id": "87e7ffce-4511-4513-848a-3a2e14075fbd",
   "metadata": {},
   "outputs": [],
   "source": [
    "transactions=[]\n",
    "for i in range(0,len(grocery_df)):\n",
    "    transactions.append(grocery_df['itemDescription'][i])"
   ]
  },
  {
   "cell_type": "code",
   "execution_count": 9,
   "id": "61b9aecb-b8d5-40ef-a16e-5c47098248a5",
   "metadata": {},
   "outputs": [],
   "source": [
    "from apyori import apriori\n",
    "rules = apriori(transactions=transactions,min_support=0.01,min_confidence=0.8,min_lift=3,\n",
    "                min_length=3,max_length=3)"
   ]
  },
  {
   "cell_type": "code",
   "execution_count": 10,
   "id": "53e69d8d-6db8-4341-b3a9-d06d40dc4b84",
   "metadata": {},
   "outputs": [
    {
     "data": {
      "text/plain": [
       "<generator object apriori at 0x7f283ebd8040>"
      ]
     },
     "execution_count": 10,
     "metadata": {},
     "output_type": "execute_result"
    }
   ],
   "source": [
    "rules"
   ]
  },
  {
   "cell_type": "code",
   "execution_count": 11,
   "id": "dd9ce1bd-1a50-4cb9-8e4a-4540d9130ec8",
   "metadata": {},
   "outputs": [
    {
     "data": {
      "text/plain": [
       "4"
      ]
     },
     "execution_count": 11,
     "metadata": {},
     "output_type": "execute_result"
    }
   ],
   "source": [
    "results = list(rules)\n",
    "len(results)"
   ]
  },
  {
   "cell_type": "code",
   "execution_count": 12,
   "id": "9e41715a-4d69-43ca-bf92-8f3fc51a183d",
   "metadata": {},
   "outputs": [],
   "source": [
    "def inspect(results):\n",
    "    baseItem   = [tuple(result[2][0][0])[0:] for result in results]\n",
    "    addItem     = [tuple(result[2][0][1])[0] for result in results]\n",
    "    supports    = [result[1] for result in results]\n",
    "    confidences = [result[2][0][2] for result in results]\n",
    "    lifts       = [result[2][0][3] for result in results]\n",
    "    return list(zip(baseItem,addItem, supports, confidences, lifts))\n",
    "resultsinDataFrame = pd.DataFrame(inspect(results),columns=['BaseItems','AdditionalItems','Supports',\n",
    "                                                            'Confidences','Lifts'])"
   ]
  },
  {
   "cell_type": "code",
   "execution_count": 13,
   "id": "111604f7-2aad-43fb-a738-2f95064d011b",
   "metadata": {},
   "outputs": [
    {
     "data": {
      "text/html": [
       "<div>\n",
       "<style scoped>\n",
       "    .dataframe tbody tr th:only-of-type {\n",
       "        vertical-align: middle;\n",
       "    }\n",
       "\n",
       "    .dataframe tbody tr th {\n",
       "        vertical-align: top;\n",
       "    }\n",
       "\n",
       "    .dataframe thead th {\n",
       "        text-align: right;\n",
       "    }\n",
       "</style>\n",
       "<table border=\"1\" class=\"dataframe\">\n",
       "  <thead>\n",
       "    <tr style=\"text-align: right;\">\n",
       "      <th></th>\n",
       "      <th>BaseItems</th>\n",
       "      <th>AdditionalItems</th>\n",
       "      <th>Supports</th>\n",
       "      <th>Confidences</th>\n",
       "      <th>Lifts</th>\n",
       "    </tr>\n",
       "  </thead>\n",
       "  <tbody>\n",
       "    <tr>\n",
       "      <th>0</th>\n",
       "      <td>(coffee, artif. sweetener)</td>\n",
       "      <td>specialty bar</td>\n",
       "      <td>0.010989</td>\n",
       "      <td>0.800000</td>\n",
       "      <td>3.165217</td>\n",
       "    </tr>\n",
       "    <tr>\n",
       "      <th>1</th>\n",
       "      <td>(frozen dessert, rice)</td>\n",
       "      <td>butter milk</td>\n",
       "      <td>0.010989</td>\n",
       "      <td>1.000000</td>\n",
       "      <td>3.192982</td>\n",
       "    </tr>\n",
       "    <tr>\n",
       "      <th>2</th>\n",
       "      <td>(napkins, male cosmetics)</td>\n",
       "      <td>cat food</td>\n",
       "      <td>0.010989</td>\n",
       "      <td>0.800000</td>\n",
       "      <td>3.757419</td>\n",
       "    </tr>\n",
       "    <tr>\n",
       "      <th>3</th>\n",
       "      <td>(chicken, prosecco)</td>\n",
       "      <td>hygiene articles</td>\n",
       "      <td>0.012363</td>\n",
       "      <td>0.818182</td>\n",
       "      <td>3.290809</td>\n",
       "    </tr>\n",
       "  </tbody>\n",
       "</table>\n",
       "</div>"
      ],
      "text/plain": [
       "                    BaseItems   AdditionalItems  Supports  Confidences  \\\n",
       "0  (coffee, artif. sweetener)     specialty bar  0.010989     0.800000   \n",
       "1      (frozen dessert, rice)       butter milk  0.010989     1.000000   \n",
       "2   (napkins, male cosmetics)          cat food  0.010989     0.800000   \n",
       "3         (chicken, prosecco)  hygiene articles  0.012363     0.818182   \n",
       "\n",
       "      Lifts  \n",
       "0  3.165217  \n",
       "1  3.192982  \n",
       "2  3.757419  \n",
       "3  3.290809  "
      ]
     },
     "execution_count": 13,
     "metadata": {},
     "output_type": "execute_result"
    }
   ],
   "source": [
    "resultsinDataFrame"
   ]
  }
 ],
 "metadata": {
  "kernelspec": {
   "display_name": "Python 3 (ipykernel)",
   "language": "python",
   "name": "python3"
  },
  "language_info": {
   "codemirror_mode": {
    "name": "ipython",
    "version": 3
   },
   "file_extension": ".py",
   "mimetype": "text/x-python",
   "name": "python",
   "nbconvert_exporter": "python",
   "pygments_lexer": "ipython3",
   "version": "3.8.18"
  }
 },
 "nbformat": 4,
 "nbformat_minor": 5
}
