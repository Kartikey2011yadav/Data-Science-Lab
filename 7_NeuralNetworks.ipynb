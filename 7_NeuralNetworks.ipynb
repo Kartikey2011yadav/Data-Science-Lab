{
 "cells": [
  {
   "cell_type": "code",
   "execution_count": 1,
   "id": "e9a1e9e8-ba1e-46d1-8e24-2d70076753c6",
   "metadata": {},
   "outputs": [
    {
     "name": "stderr",
     "output_type": "stream",
     "text": [
      "2023-12-06 11:32:15.151082: I tensorflow/tsl/cuda/cudart_stub.cc:28] Could not find cuda drivers on your machine, GPU will not be used.\n",
      "2023-12-06 11:32:15.310593: I tensorflow/tsl/cuda/cudart_stub.cc:28] Could not find cuda drivers on your machine, GPU will not be used.\n",
      "2023-12-06 11:32:15.312211: I tensorflow/core/platform/cpu_feature_guard.cc:182] This TensorFlow binary is optimized to use available CPU instructions in performance-critical operations.\n",
      "To enable the following instructions: AVX2 FMA, in other operations, rebuild TensorFlow with the appropriate compiler flags.\n",
      "2023-12-06 11:32:16.050181: W tensorflow/compiler/tf2tensorrt/utils/py_utils.cc:38] TF-TRT Warning: Could not find TensorRT\n"
     ]
    }
   ],
   "source": [
    "import random\n",
    "import pandas as pd\n",
    "import numpy as np \n",
    "import seaborn as sns\n",
    "from tensorflow import keras\n",
    "import matplotlib.pyplot as plt\n",
    "from imblearn.over_sampling import SMOTE\n",
    "from sklearn.preprocessing import MinMaxScaler\n",
    "from sklearn.model_selection import train_test_split\n",
    "from sklearn.preprocessing import MinMaxScaler\n",
    "from sklearn.tree import DecisionTreeClassifier, plot_tree\n",
    "from sklearn.ensemble import RandomForestClassifier\n",
    "from sklearn.preprocessing import StandardScaler\n",
    "from sklearn.metrics import accuracy_score, confusion_matrix\n",
    "from sklearn import preprocessing \n",
    "from sklearn.neighbors import KNeighborsClassifier\n",
    "from sklearn.linear_model import LinearRegression\n",
    "from sklearn.datasets import fetch_california_housing\n",
    "from sklearn.linear_model import PoissonRegressor\n",
    "from sklearn.metrics import mean_absolute_error, mean_squared_error"
   ]
  },
  {
   "cell_type": "markdown",
   "id": "15670f31-3bcc-42d6-b7e5-b9873d0ed68d",
   "metadata": {},
   "source": [
    "# NEURAL NETWORKS"
   ]
  },
  {
   "cell_type": "markdown",
   "id": "3fde3b0c-dce0-4be4-ab65-649724b5ef21",
   "metadata": {},
   "source": [
    "## 1:Demonstrate application of NEURAL NETWORKS using Python"
   ]
  },
  {
   "cell_type": "code",
   "execution_count": 2,
   "id": "cddb50a0-0146-424e-9c9d-2bed33560faa",
   "metadata": {},
   "outputs": [],
   "source": [
    "data_housing = pd.read_csv('housing.csv')"
   ]
  },
  {
   "cell_type": "code",
   "execution_count": 3,
   "id": "42fef1cf-0ad3-4cee-b003-d24fe52a8053",
   "metadata": {},
   "outputs": [
    {
     "name": "stdout",
     "output_type": "stream",
     "text": [
      "<class 'pandas.core.frame.DataFrame'>\n",
      "RangeIndex: 20640 entries, 0 to 20639\n",
      "Data columns (total 10 columns):\n",
      " #   Column              Non-Null Count  Dtype  \n",
      "---  ------              --------------  -----  \n",
      " 0   longitude           20640 non-null  float64\n",
      " 1   latitude            20640 non-null  float64\n",
      " 2   housing_median_age  20640 non-null  float64\n",
      " 3   total_rooms         20640 non-null  float64\n",
      " 4   total_bedrooms      20640 non-null  float64\n",
      " 5   population          20640 non-null  float64\n",
      " 6   households          20640 non-null  float64\n",
      " 7   median_income       20640 non-null  float64\n",
      " 8   median_house_value  20640 non-null  float64\n",
      " 9   ocean_proximity     20640 non-null  object \n",
      "dtypes: float64(9), object(1)\n",
      "memory usage: 1.6+ MB\n"
     ]
    }
   ],
   "source": [
    "data_housing['total_bedrooms'] = data_housing['total_bedrooms'].fillna(data_housing['total_rooms']*0.07)\n",
    "\n",
    "data_housing.info()"
   ]
  },
  {
   "cell_type": "code",
   "execution_count": 4,
   "id": "11156aaf-fb81-48f4-be86-acf1fd57bbfa",
   "metadata": {},
   "outputs": [],
   "source": [
    "X = data_housing.drop(['ocean_proximity'], axis=1)\n",
    "y = data_housing['ocean_proximity']\n",
    "scaler = MinMaxScaler()\n",
    "X = scaler.fit_transform(X)\n",
    "X_train, X_test, Y_train, Y_test = train_test_split(X, y, test_size=0.2)"
   ]
  },
  {
   "cell_type": "code",
   "execution_count": 5,
   "id": "4f0eced9-4a44-4fd2-8208-8e09ed47f006",
   "metadata": {},
   "outputs": [],
   "source": [
    "label_encoder = preprocessing.LabelEncoder() \n",
    "\n",
    "yTrain= label_encoder.fit_transform(Y_train) \n",
    "yTest= label_encoder.fit_transform(Y_test) "
   ]
  },
  {
   "cell_type": "code",
   "execution_count": 6,
   "id": "5a15441a-2221-4b91-977c-707e39cafea1",
   "metadata": {},
   "outputs": [],
   "source": [
    "def neural_net():\n",
    "    md=keras.Sequential([\n",
    "        keras.layers.Flatten(),\n",
    "        keras.layers.Dense(9,input_shape=(16512, 9),activation=\"relu\"),\n",
    "        keras.layers.Dense(50,activation=\"relu\"),\n",
    "        keras.layers.Dense(5,activation=\"sigmoid\")\n",
    "\n",
    "    ])\n",
    "    md.compile(optimizer=\"adam\",loss='sparse_categorical_crossentropy',metrics=[\"accuracy\"])\n",
    "    return md"
   ]
  },
  {
   "cell_type": "code",
   "execution_count": 7,
   "id": "b8bed294-83a1-4c44-b420-5a64c0dba864",
   "metadata": {},
   "outputs": [
    {
     "name": "stdout",
     "output_type": "stream",
     "text": [
      "Epoch 1/10\n"
     ]
    },
    {
     "name": "stderr",
     "output_type": "stream",
     "text": [
      "2023-12-06 11:32:28.858704: I tensorflow/compiler/xla/stream_executor/cuda/cuda_gpu_executor.cc:995] successful NUMA node read from SysFS had negative value (-1), but there must be at least one NUMA node, so returning NUMA node zero. See more at https://github.com/torvalds/linux/blob/v6.0/Documentation/ABI/testing/sysfs-bus-pci#L344-L355\n",
      "2023-12-06 11:32:28.859208: W tensorflow/core/common_runtime/gpu/gpu_device.cc:1960] Cannot dlopen some GPU libraries. Please make sure the missing libraries mentioned above are installed properly if you would like to use GPU. Follow the guide at https://www.tensorflow.org/install/gpu for how to download and setup the required libraries for your platform.\n",
      "Skipping registering GPU devices...\n"
     ]
    },
    {
     "name": "stdout",
     "output_type": "stream",
     "text": [
      "516/516 [==============================] - 1s 518us/step - loss: 1.0653 - accuracy: 0.5976\n",
      "Epoch 2/10\n",
      "516/516 [==============================] - 0s 517us/step - loss: 0.7403 - accuracy: 0.7326\n",
      "Epoch 3/10\n",
      "516/516 [==============================] - 0s 506us/step - loss: 0.6779 - accuracy: 0.7469\n",
      "Epoch 4/10\n",
      "516/516 [==============================] - 0s 507us/step - loss: 0.6184 - accuracy: 0.7599\n",
      "Epoch 5/10\n",
      "516/516 [==============================] - 0s 505us/step - loss: 0.5674 - accuracy: 0.7865\n",
      "Epoch 6/10\n",
      "516/516 [==============================] - 0s 517us/step - loss: 0.5261 - accuracy: 0.8064\n",
      "Epoch 7/10\n",
      "516/516 [==============================] - 0s 519us/step - loss: 0.4914 - accuracy: 0.8187\n",
      "Epoch 8/10\n",
      "516/516 [==============================] - 0s 512us/step - loss: 0.4641 - accuracy: 0.8279\n",
      "Epoch 9/10\n",
      "516/516 [==============================] - 0s 504us/step - loss: 0.4387 - accuracy: 0.8370\n",
      "Epoch 10/10\n",
      "516/516 [==============================] - 0s 514us/step - loss: 0.4173 - accuracy: 0.8442\n"
     ]
    },
    {
     "data": {
      "text/plain": [
       "<keras.src.callbacks.History at 0x7f8bec2f0bb0>"
      ]
     },
     "execution_count": 7,
     "metadata": {},
     "output_type": "execute_result"
    }
   ],
   "source": [
    "m=neural_net()\n",
    "m.fit(X_train,yTrain,epochs=10)"
   ]
  },
  {
   "cell_type": "code",
   "execution_count": 8,
   "id": "3acc0266-41c1-48f3-a292-fb87e7b370cd",
   "metadata": {},
   "outputs": [
    {
     "name": "stdout",
     "output_type": "stream",
     "text": [
      "129/129 [==============================] - 0s 478us/step - loss: 0.4288 - accuracy: 0.8321\n"
     ]
    },
    {
     "data": {
      "text/plain": [
       "[0.42880013585090637, 0.8321220874786377]"
      ]
     },
     "execution_count": 8,
     "metadata": {},
     "output_type": "execute_result"
    }
   ],
   "source": [
    "m.evaluate(X_test,yTest)"
   ]
  },
  {
   "cell_type": "code",
   "execution_count": null,
   "id": "5ebbe002-ea72-46c1-b731-7f168f1f75c5",
   "metadata": {},
   "outputs": [],
   "source": []
  }
 ],
 "metadata": {
  "kernelspec": {
   "display_name": "Python 3 (ipykernel)",
   "language": "python",
   "name": "python3"
  },
  "language_info": {
   "codemirror_mode": {
    "name": "ipython",
    "version": 3
   },
   "file_extension": ".py",
   "mimetype": "text/x-python",
   "name": "python",
   "nbconvert_exporter": "python",
   "pygments_lexer": "ipython3",
   "version": "3.8.18"
  }
 },
 "nbformat": 4,
 "nbformat_minor": 5
}
