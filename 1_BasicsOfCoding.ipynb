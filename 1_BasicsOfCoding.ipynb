{
 "cells": [
  {
   "cell_type": "markdown",
   "id": "9b42212a-1466-470f-a342-a918e0ac6652",
   "metadata": {},
   "source": [
    "# BASICS OF CODING"
   ]
  },
  {
   "cell_type": "code",
   "execution_count": 8,
   "id": "cb040985-08d7-4215-aeac-294a92d1a423",
   "metadata": {},
   "outputs": [],
   "source": [
    "import random\n",
    "import pandas as pd\n",
    "import numpy as np \n",
    "import seaborn as sns\n",
    "from tensorflow import keras\n",
    "import matplotlib.pyplot as plt\n",
    "from imblearn.over_sampling import SMOTE\n",
    "from sklearn.preprocessing import MinMaxScaler\n",
    "from sklearn.model_selection import train_test_split\n",
    "from sklearn.preprocessing import MinMaxScaler\n",
    "from sklearn.tree import DecisionTreeClassifier, plot_tree\n",
    "from sklearn.ensemble import RandomForestClassifier\n",
    "from sklearn.preprocessing import StandardScaler\n",
    "from sklearn.metrics import accuracy_score, confusion_matrix\n",
    "from sklearn import preprocessing \n",
    "from sklearn.neighbors import KNeighborsClassifier\n",
    "from sklearn.linear_model import LinearRegression\n",
    "from sklearn.datasets import fetch_california_housing\n",
    "from sklearn.linear_model import PoissonRegressor\n",
    "from sklearn.metrics import mean_absolute_error, mean_squared_error"
   ]
  },
  {
   "cell_type": "markdown",
   "id": "3700272a-4f50-4939-9527-4528d76021cb",
   "metadata": {},
   "source": [
    "## 1: Using comments in Python"
   ]
  },
  {
   "cell_type": "code",
   "execution_count": 1,
   "id": "0c7160ff-7991-44a3-aa51-befb75667464",
   "metadata": {},
   "outputs": [],
   "source": [
    "# Python comment Syntax"
   ]
  },
  {
   "cell_type": "markdown",
   "id": "9bcbfe58-1801-4c75-8f2f-6baaa689f8c5",
   "metadata": {},
   "source": [
    "## 2: Executing commands in Python "
   ]
  },
  {
   "cell_type": "code",
   "execution_count": 2,
   "id": "b1c2a9f3-4478-4d47-902e-e0c92b0cadd7",
   "metadata": {},
   "outputs": [
    {
     "name": "stdout",
     "output_type": "stream",
     "text": [
      "hello there,General Kenobi\n"
     ]
    }
   ],
   "source": [
    "print('hello there,General Kenobi')"
   ]
  },
  {
   "cell_type": "markdown",
   "id": "df12d977-a1e7-484f-8027-726cdc993d49",
   "metadata": {},
   "source": [
    "## 3: Importing packages Python"
   ]
  },
  {
   "cell_type": "code",
   "execution_count": 3,
   "id": "a6675785-81b9-4a5c-a803-806c8c9b334e",
   "metadata": {},
   "outputs": [
    {
     "name": "stdout",
     "output_type": "stream",
     "text": [
      "75\n"
     ]
    }
   ],
   "source": [
    "import random\n",
    "\n",
    "print(random.randint(0, 100))"
   ]
  },
  {
   "cell_type": "markdown",
   "id": "933ca202-30c3-4b80-ac3a-4dec474fe880",
   "metadata": {},
   "source": [
    "## 4: Getting data into Python"
   ]
  },
  {
   "cell_type": "code",
   "execution_count": 5,
   "id": "240f9eef-5ca2-4707-b2d1-f6e5219fe83a",
   "metadata": {},
   "outputs": [
    {
     "name": "stdout",
     "output_type": "stream",
     "text": [
      "    gender race/ethnicity parental level of education         lunch  \\\n",
      "0   female        group B           bachelor's degree      standard   \n",
      "1   female        group C                some college      standard   \n",
      "2   female        group B             master's degree      standard   \n",
      "3     male        group A          associate's degree  free/reduced   \n",
      "4     male        group C                some college      standard   \n",
      "5   female        group B          associate's degree      standard   \n",
      "6   female        group B                some college      standard   \n",
      "7     male        group B                some college  free/reduced   \n",
      "8     male        group D                 high school  free/reduced   \n",
      "9   female        group B                 high school  free/reduced   \n",
      "10    male        group C          associate's degree      standard   \n",
      "11    male        group D          associate's degree      standard   \n",
      "12  female        group B                 high school      standard   \n",
      "13    male        group A                some college      standard   \n",
      "14  female        group A             master's degree      standard   \n",
      "\n",
      "   test preparation course  math score  reading score  writing score  \\\n",
      "0                     none          72             72             74   \n",
      "1                completed          69             90             88   \n",
      "2                     none          90             95             93   \n",
      "3                     none          47             57             44   \n",
      "4                     none          76             78             75   \n",
      "5                     none          71             83             78   \n",
      "6                completed          88             95             92   \n",
      "7                     none          40             43             39   \n",
      "8                completed          64             64             67   \n",
      "9                     none          38             60             50   \n",
      "10                    none          58             54             52   \n",
      "11                    none          40             52             43   \n",
      "12                    none          65             81             73   \n",
      "13               completed          78             72             70   \n",
      "14                    none          50             53             58   \n",
      "\n",
      "    Total Marks in %  \n",
      "0          72.666667  \n",
      "1          82.333333  \n",
      "2          92.666667  \n",
      "3          49.333333  \n",
      "4          76.333333  \n",
      "5          77.333333  \n",
      "6          91.666667  \n",
      "7          40.666667  \n",
      "8          65.000000  \n",
      "9          49.333333  \n",
      "10         54.666667  \n",
      "11         45.000000  \n",
      "12         73.000000  \n",
      "13         73.333333  \n",
      "14         53.666667  \n"
     ]
    }
   ],
   "source": [
    "import pandas as pd\n",
    "data = pd.read_csv(\"StudentsPerformance.csv\")\n",
    "print(data.head(15))"
   ]
  },
  {
   "cell_type": "markdown",
   "id": "e29b112e-31ae-450a-9148-291f7da0cabf",
   "metadata": {},
   "source": [
    "## 5: Saving output in Python"
   ]
  },
  {
   "cell_type": "code",
   "execution_count": null,
   "id": "40e5d045-46b6-4955-831f-95bccef4b266",
   "metadata": {},
   "outputs": [],
   "source": [
    "# import pickle as pk\n",
    "\n",
    "# with open('../Data Science/Models/DSLabAss1.csv', 'wb') as f:\n",
    "#     pk.dump(df, f)"
   ]
  },
  {
   "cell_type": "markdown",
   "id": "43c951d4-54fb-44eb-a77f-97e71e757f06",
   "metadata": {},
   "source": [
    "## 6: Accessing records and variables in Python|"
   ]
  },
  {
   "cell_type": "code",
   "execution_count": 6,
   "id": "c8e36554-6ba8-4b44-9825-b0027d4a6c95",
   "metadata": {},
   "outputs": [
    {
     "data": {
      "text/plain": [
       "0      72\n",
       "1      69\n",
       "2      90\n",
       "3      47\n",
       "4      76\n",
       "       ..\n",
       "995    88\n",
       "996    62\n",
       "997    59\n",
       "998    68\n",
       "999    77\n",
       "Name: math score, Length: 1000, dtype: int64"
      ]
     },
     "execution_count": 6,
     "metadata": {},
     "output_type": "execute_result"
    }
   ],
   "source": [
    "data['math score']"
   ]
  }
 ],
 "metadata": {
  "kernelspec": {
   "display_name": "Python 3 (ipykernel)",
   "language": "python",
   "name": "python3"
  },
  "language_info": {
   "codemirror_mode": {
    "name": "ipython",
    "version": 3
   },
   "file_extension": ".py",
   "mimetype": "text/x-python",
   "name": "python",
   "nbconvert_exporter": "python",
   "pygments_lexer": "ipython3",
   "version": "3.8.18"
  }
 },
 "nbformat": 4,
 "nbformat_minor": 5
}
